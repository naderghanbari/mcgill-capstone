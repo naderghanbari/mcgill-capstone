{
  "nbformat": 4,
  "nbformat_minor": 0,
  "metadata": {
    "colab": {
      "name": "mcgill-capstone",
      "provenance": [],
      "collapsed_sections": [],
      "toc_visible": true,
      "include_colab_link": true
    },
    "kernelspec": {
      "name": "python3",
      "display_name": "Python 3"
    }
  },
  "cells": [
    {
      "cell_type": "markdown",
      "metadata": {
        "id": "view-in-github",
        "colab_type": "text"
      },
      "source": [
        "<a href=\"https://colab.research.google.com/github/naderghanbari/mcgill-capstone/blob/master/mcgill_capstone.ipynb\" target=\"_parent\"><img src=\"https://colab.research.google.com/assets/colab-badge.svg\" alt=\"Open In Colab\"/></a>"
      ]
    },
    {
      "cell_type": "markdown",
      "metadata": {
        "id": "_uzXIqNtp4C0",
        "colab_type": "text"
      },
      "source": [
        "# Install and import libraries"
      ]
    },
    {
      "cell_type": "code",
      "metadata": {
        "id": "MO8Jf1WupqEY",
        "colab_type": "code",
        "colab": {
          "base_uri": "https://localhost:8080/",
          "height": 255
        },
        "outputId": "c8f94212-ecee-4c9b-c9d8-062082fd7820"
      },
      "source": [
        "!pip install geopandas"
      ],
      "execution_count": null,
      "outputs": [
        {
          "output_type": "stream",
          "text": [
            "Requirement already satisfied: geopandas in /usr/local/lib/python3.6/dist-packages (0.8.1)\n",
            "Requirement already satisfied: pandas>=0.23.0 in /usr/local/lib/python3.6/dist-packages (from geopandas) (1.0.5)\n",
            "Requirement already satisfied: pyproj>=2.2.0 in /usr/local/lib/python3.6/dist-packages (from geopandas) (2.6.1.post1)\n",
            "Requirement already satisfied: shapely in /usr/local/lib/python3.6/dist-packages (from geopandas) (1.7.0)\n",
            "Requirement already satisfied: fiona in /usr/local/lib/python3.6/dist-packages (from geopandas) (1.8.13.post1)\n",
            "Requirement already satisfied: numpy>=1.13.3 in /usr/local/lib/python3.6/dist-packages (from pandas>=0.23.0->geopandas) (1.18.5)\n",
            "Requirement already satisfied: python-dateutil>=2.6.1 in /usr/local/lib/python3.6/dist-packages (from pandas>=0.23.0->geopandas) (2.8.1)\n",
            "Requirement already satisfied: pytz>=2017.2 in /usr/local/lib/python3.6/dist-packages (from pandas>=0.23.0->geopandas) (2018.9)\n",
            "Requirement already satisfied: cligj>=0.5 in /usr/local/lib/python3.6/dist-packages (from fiona->geopandas) (0.5.0)\n",
            "Requirement already satisfied: six>=1.7 in /usr/local/lib/python3.6/dist-packages (from fiona->geopandas) (1.15.0)\n",
            "Requirement already satisfied: click<8,>=4.0 in /usr/local/lib/python3.6/dist-packages (from fiona->geopandas) (7.1.2)\n",
            "Requirement already satisfied: munch in /usr/local/lib/python3.6/dist-packages (from fiona->geopandas) (2.5.0)\n",
            "Requirement already satisfied: attrs>=17 in /usr/local/lib/python3.6/dist-packages (from fiona->geopandas) (19.3.0)\n",
            "Requirement already satisfied: click-plugins>=1.0 in /usr/local/lib/python3.6/dist-packages (from fiona->geopandas) (1.1.1)\n"
          ],
          "name": "stdout"
        }
      ]
    },
    {
      "cell_type": "code",
      "metadata": {
        "id": "WAE4Wg5DjvAf",
        "colab_type": "code",
        "colab": {}
      },
      "source": [
        "import os\n",
        "import numpy as np\n",
        "import pandas as pd\n",
        "import geopandas as gpd"
      ],
      "execution_count": null,
      "outputs": []
    },
    {
      "cell_type": "markdown",
      "metadata": {
        "id": "VuwP3ja6hq-H",
        "colab_type": "text"
      },
      "source": [
        "# Data collection"
      ]
    },
    {
      "cell_type": "code",
      "metadata": {
        "id": "5fNT547qFvb7",
        "colab_type": "code",
        "colab": {
          "base_uri": "https://localhost:8080/",
          "height": 34
        },
        "outputId": "13d9db96-8152-4638-da45-6b773b6ea5af"
      },
      "source": [
        "# Collect Montreal firefighter interventions from 2015 to date\n",
        "%%bash\n",
        "mkdir -p interventions\n",
        "curl http://donnees.ville.montreal.qc.ca/dataset/701683f0-a838-4fe0-b4d6-a4964d9ea7f0/resource/9e67d2f3-9104-4af4-aac4-022df621a749/download/donneesouvertes-interventions-sim.csv --silent --output interventions/interventions.csv\n",
        "echo Number of lines: `wc -l interventions/*`"
      ],
      "execution_count": null,
      "outputs": [
        {
          "output_type": "stream",
          "text": [
            "Number of lines: 641828 interventions/interventions.csv\n"
          ],
          "name": "stdout"
        }
      ]
    },
    {
      "cell_type": "code",
      "metadata": {
        "colab_type": "code",
        "id": "MkrAJZGlL55v",
        "colab": {
          "base_uri": "https://localhost:8080/",
          "height": 34
        },
        "outputId": "f6f067e1-a951-4d93-cf56-78fbe069b128"
      },
      "source": [
        "# Collect Montreal fire stations dataset\n",
        "%%bash\n",
        "mkdir -p stations\n",
        "curl http://donnees.ville.montreal.qc.ca/dataset/c69e78c6-e454-4bd9-9778-e4b0eaf8105b/resource/f6542ad1-31f5-458e-b33d-1a028fab3e98/download/casernes.csv --silent --output stations/stations.csv\n",
        "echo Number of lines: `wc -l stations/*`"
      ],
      "execution_count": null,
      "outputs": [
        {
          "output_type": "stream",
          "text": [
            "Number of lines: 69 stations/stations.csv\n"
          ],
          "name": "stdout"
        }
      ]
    },
    {
      "cell_type": "code",
      "metadata": {
        "colab_type": "code",
        "id": "ekFeQP_Y04wH",
        "colab": {
          "base_uri": "https://localhost:8080/",
          "height": 34
        },
        "outputId": "13cb3910-6509-4655-fdeb-91951a289b7d"
      },
      "source": [
        "# Collect Montreal fire station divisions dataset\n",
        "%%bash\n",
        "mkdir -p divisions\n",
        "curl https://storage.googleapis.com/capstone-data-lake/divisions/divisions.csv --silent --output divisions/divisions.csv\n",
        "echo Number of lines: `wc -l divisions/*`"
      ],
      "execution_count": null,
      "outputs": [
        {
          "output_type": "stream",
          "text": [
            "Number of lines: 68 divisions/divisions.csv\n"
          ],
          "name": "stdout"
        }
      ]
    },
    {
      "cell_type": "code",
      "metadata": {
        "colab_type": "code",
        "id": "lYAqkg5wKBKn",
        "colab": {
          "base_uri": "https://localhost:8080/",
          "height": 34
        },
        "outputId": "4e4d5c03-8cfc-4f17-ed9d-3b767d9a8614"
      },
      "source": [
        "# Collect Montreal crime data from 2015 to date\n",
        "%%bash\n",
        "mkdir -p crimes\n",
        "curl http://donnees.ville.montreal.qc.ca/dataset/5829b5b0-ea6f-476f-be94-bc2b8797769a/resource/c6f482bf-bf0f-4960-8b2f-9982c211addd/download/interventionscitoyendo.csv --silent --output crimes/crimes.csv\n",
        "echo Number of lines: `wc -l crimes/*`"
      ],
      "execution_count": null,
      "outputs": [
        {
          "output_type": "stream",
          "text": [
            "Number of lines: 171443 crimes/crimes.csv\n"
          ],
          "name": "stdout"
        }
      ]
    },
    {
      "cell_type": "code",
      "metadata": {
        "id": "G1SBiyHx4LCa",
        "colab_type": "code",
        "colab": {}
      },
      "source": [
        "# Collect Montreal hourly weather data from 2015 to 2019\n",
        "%%bash\n",
        "FROM=2015\n",
        "TO=2019\n",
        "STATION=30165\n",
        "mkdir -p weather\n",
        "for year in $(seq $FROM $TO); do\n",
        "  for month in {01..12}; do\n",
        "    curl https://climate.weather.gc.ca/climate_data/bulk_data_e.html\\?format\\=csv\\&stationID\\=$STATION\\&Year\\=$year\\&Month\\=$month\\&Day\\=1\\&timeframe\\=1\\&submit\\=Download+Data --silent --output weather/$year-$month.csv &\n",
        "  done;\n",
        "done"
      ],
      "execution_count": null,
      "outputs": []
    },
    {
      "cell_type": "code",
      "metadata": {
        "id": "_uGJ1ZXB_AzQ",
        "colab_type": "code",
        "colab": {}
      },
      "source": [
        "# Count check\n",
        "assert(len(os.listdir(\"weather\")) == 60)"
      ],
      "execution_count": null,
      "outputs": []
    },
    {
      "cell_type": "markdown",
      "metadata": {
        "id": "HRIJhTnFhqJt",
        "colab_type": "text"
      },
      "source": [
        "# Data ingestion, merging, and cleaning\n",
        "First we load the stations and divisions datasets."
      ]
    },
    {
      "cell_type": "code",
      "metadata": {
        "id": "GUKxrDxqDxPS",
        "colab_type": "code",
        "colab": {
          "base_uri": "https://localhost:8080/",
          "height": 204
        },
        "outputId": "330184f1-bba5-4b0e-f37a-85d21de50bcc"
      },
      "source": [
        "# Read stations to a Pandas dataframe and keep only relevant columns\n",
        "stations = pd.read_csv(\"stations/stations.csv\", dtype={\"CASERNE\":\"string\"})\n",
        "stations.rename(columns={\"CASERNE\":\"station\", \"LATITUDE\":\"latitude\", \"LONGITUDE\": \"longitude\"}, inplace=True)\n",
        "stations = stations[[\"station\",\"latitude\",\"longitude\"]]\n",
        "stations = gpd.GeoDataFrame(stations, geometry=gpd.points_from_xy(stations.longitude, stations.latitude))\n",
        "stations.head()"
      ],
      "execution_count": null,
      "outputs": [
        {
          "output_type": "execute_result",
          "data": {
            "text/html": [
              "<div>\n",
              "<style scoped>\n",
              "    .dataframe tbody tr th:only-of-type {\n",
              "        vertical-align: middle;\n",
              "    }\n",
              "\n",
              "    .dataframe tbody tr th {\n",
              "        vertical-align: top;\n",
              "    }\n",
              "\n",
              "    .dataframe thead th {\n",
              "        text-align: right;\n",
              "    }\n",
              "</style>\n",
              "<table border=\"1\" class=\"dataframe\">\n",
              "  <thead>\n",
              "    <tr style=\"text-align: right;\">\n",
              "      <th></th>\n",
              "      <th>station</th>\n",
              "      <th>latitude</th>\n",
              "      <th>longitude</th>\n",
              "      <th>geometry</th>\n",
              "    </tr>\n",
              "  </thead>\n",
              "  <tbody>\n",
              "    <tr>\n",
              "      <th>0</th>\n",
              "      <td>03</td>\n",
              "      <td>45.493454</td>\n",
              "      <td>-73.560172</td>\n",
              "      <td>POINT (-73.56017 45.49345)</td>\n",
              "    </tr>\n",
              "    <tr>\n",
              "      <th>1</th>\n",
              "      <td>15</td>\n",
              "      <td>45.484419</td>\n",
              "      <td>-73.560917</td>\n",
              "      <td>POINT (-73.56092 45.48442)</td>\n",
              "    </tr>\n",
              "    <tr>\n",
              "      <th>2</th>\n",
              "      <td>23</td>\n",
              "      <td>45.477925</td>\n",
              "      <td>-73.585251</td>\n",
              "      <td>POINT (-73.58525 45.47793)</td>\n",
              "    </tr>\n",
              "    <tr>\n",
              "      <th>3</th>\n",
              "      <td>33</td>\n",
              "      <td>45.457841</td>\n",
              "      <td>-73.595450</td>\n",
              "      <td>POINT (-73.59545 45.45784)</td>\n",
              "    </tr>\n",
              "    <tr>\n",
              "      <th>4</th>\n",
              "      <td>09</td>\n",
              "      <td>45.563748</td>\n",
              "      <td>-73.610169</td>\n",
              "      <td>POINT (-73.61017 45.56375)</td>\n",
              "    </tr>\n",
              "  </tbody>\n",
              "</table>\n",
              "</div>"
            ],
            "text/plain": [
              "  station   latitude  longitude                    geometry\n",
              "0      03  45.493454 -73.560172  POINT (-73.56017 45.49345)\n",
              "1      15  45.484419 -73.560917  POINT (-73.56092 45.48442)\n",
              "2      23  45.477925 -73.585251  POINT (-73.58525 45.47793)\n",
              "3      33  45.457841 -73.595450  POINT (-73.59545 45.45784)\n",
              "4      09  45.563748 -73.610169  POINT (-73.61017 45.56375)"
            ]
          },
          "metadata": {
            "tags": []
          },
          "execution_count": 30
        }
      ]
    },
    {
      "cell_type": "code",
      "metadata": {
        "id": "2IYiOOiiq5sl",
        "colab_type": "code",
        "colab": {
          "base_uri": "https://localhost:8080/",
          "height": 208
        },
        "outputId": "050d03e4-28b7-4c84-ffc5-ce8fb3b11d83"
      },
      "source": [
        "# Visual check for latitude and longitude\n",
        "world = gpd.read_file(gpd.datasets.get_path(\"naturalearth_lowres\"))\n",
        "ax = world[world.continent == \"North America\"].plot(color=\"white\",edgecolor=\"black\")\n",
        "stations.plot(ax=ax,color='red');"
      ],
      "execution_count": null,
      "outputs": [
        {
          "output_type": "display_data",
          "data": {
            "image/png": "[encoded data removed]",
            "text/plain": [
              "<Figure size 432x288 with 1 Axes>"
            ]
          },
          "metadata": {
            "tags": [],
            "needs_background": "light"
          }
        }
      ]
    },
    {
      "cell_type": "code",
      "metadata": {
        "id": "82Ku46qgjngV",
        "colab_type": "code",
        "colab": {
          "base_uri": "https://localhost:8080/",
          "height": 204
        },
        "outputId": "8684737c-3ee0-46f0-b46f-ca128fc36aad"
      },
      "source": [
        "# Read divisions to a Pandas dataframe\n",
        "divisions = pd.read_csv(\"divisions/divisions.csv\", dtype={\"station\":\"string\", \"division\":\"string\"})\n",
        "divisions.head()"
      ],
      "execution_count": null,
      "outputs": [
        {
          "output_type": "execute_result",
          "data": {
            "text/html": [
              "<div>\n",
              "<style scoped>\n",
              "    .dataframe tbody tr th:only-of-type {\n",
              "        vertical-align: middle;\n",
              "    }\n",
              "\n",
              "    .dataframe tbody tr th {\n",
              "        vertical-align: top;\n",
              "    }\n",
              "\n",
              "    .dataframe thead th {\n",
              "        text-align: right;\n",
              "    }\n",
              "</style>\n",
              "<table border=\"1\" class=\"dataframe\">\n",
              "  <thead>\n",
              "    <tr style=\"text-align: right;\">\n",
              "      <th></th>\n",
              "      <th>station</th>\n",
              "      <th>division</th>\n",
              "    </tr>\n",
              "  </thead>\n",
              "  <tbody>\n",
              "    <tr>\n",
              "      <th>0</th>\n",
              "      <td>51</td>\n",
              "      <td>1</td>\n",
              "    </tr>\n",
              "    <tr>\n",
              "      <th>1</th>\n",
              "      <td>52</td>\n",
              "      <td>1</td>\n",
              "    </tr>\n",
              "    <tr>\n",
              "      <th>2</th>\n",
              "      <td>53</td>\n",
              "      <td>1</td>\n",
              "    </tr>\n",
              "    <tr>\n",
              "      <th>3</th>\n",
              "      <td>54</td>\n",
              "      <td>1</td>\n",
              "    </tr>\n",
              "    <tr>\n",
              "      <th>4</th>\n",
              "      <td>55</td>\n",
              "      <td>1</td>\n",
              "    </tr>\n",
              "  </tbody>\n",
              "</table>\n",
              "</div>"
            ],
            "text/plain": [
              "  station division\n",
              "0      51        1\n",
              "1      52        1\n",
              "2      53        1\n",
              "3      54        1\n",
              "4      55        1"
            ]
          },
          "metadata": {
            "tags": []
          },
          "execution_count": 32
        }
      ]
    },
    {
      "cell_type": "markdown",
      "metadata": {
        "id": "On2i2QD2lSA1",
        "colab_type": "text"
      },
      "source": [
        "In the next step we merge the stations dataframe with divisions. This will automatically filter out the only decommissioned station, so there is no \n",
        "need to manually remove it from the dataset."
      ]
    },
    {
      "cell_type": "code",
      "metadata": {
        "id": "4gvb_gAmkGVi",
        "colab_type": "code",
        "colab": {
          "base_uri": "https://localhost:8080/",
          "height": 204
        },
        "outputId": "11d5768b-355d-4ea8-e81b-dc55aa876964"
      },
      "source": [
        "# Merge stations with divisions\n",
        "stations = stations.join(divisions.set_index(\"station\"), on=\"station\", how=\"inner\")\n",
        "stations.head()"
      ],
      "execution_count": null,
      "outputs": [
        {
          "output_type": "execute_result",
          "data": {
            "text/html": [
              "<div>\n",
              "<style scoped>\n",
              "    .dataframe tbody tr th:only-of-type {\n",
              "        vertical-align: middle;\n",
              "    }\n",
              "\n",
              "    .dataframe tbody tr th {\n",
              "        vertical-align: top;\n",
              "    }\n",
              "\n",
              "    .dataframe thead th {\n",
              "        text-align: right;\n",
              "    }\n",
              "</style>\n",
              "<table border=\"1\" class=\"dataframe\">\n",
              "  <thead>\n",
              "    <tr style=\"text-align: right;\">\n",
              "      <th></th>\n",
              "      <th>station</th>\n",
              "      <th>latitude</th>\n",
              "      <th>longitude</th>\n",
              "      <th>geometry</th>\n",
              "      <th>division</th>\n",
              "    </tr>\n",
              "  </thead>\n",
              "  <tbody>\n",
              "    <tr>\n",
              "      <th>1</th>\n",
              "      <td>15</td>\n",
              "      <td>45.484419</td>\n",
              "      <td>-73.560917</td>\n",
              "      <td>POINT (-73.56092 45.48442)</td>\n",
              "      <td>2</td>\n",
              "    </tr>\n",
              "    <tr>\n",
              "      <th>2</th>\n",
              "      <td>23</td>\n",
              "      <td>45.477925</td>\n",
              "      <td>-73.585251</td>\n",
              "      <td>POINT (-73.58525 45.47793)</td>\n",
              "      <td>2</td>\n",
              "    </tr>\n",
              "    <tr>\n",
              "      <th>3</th>\n",
              "      <td>33</td>\n",
              "      <td>45.457841</td>\n",
              "      <td>-73.595450</td>\n",
              "      <td>POINT (-73.59545 45.45784)</td>\n",
              "      <td>2</td>\n",
              "    </tr>\n",
              "    <tr>\n",
              "      <th>5</th>\n",
              "      <td>37</td>\n",
              "      <td>45.546373</td>\n",
              "      <td>-73.626758</td>\n",
              "      <td>POINT (-73.62676 45.54637)</td>\n",
              "      <td>3</td>\n",
              "    </tr>\n",
              "    <tr>\n",
              "      <th>6</th>\n",
              "      <td>41</td>\n",
              "      <td>45.527630</td>\n",
              "      <td>-73.626383</td>\n",
              "      <td>POINT (-73.62638 45.52763)</td>\n",
              "      <td>5</td>\n",
              "    </tr>\n",
              "  </tbody>\n",
              "</table>\n",
              "</div>"
            ],
            "text/plain": [
              "  station   latitude  longitude                    geometry division\n",
              "1      15  45.484419 -73.560917  POINT (-73.56092 45.48442)        2\n",
              "2      23  45.477925 -73.585251  POINT (-73.58525 45.47793)        2\n",
              "3      33  45.457841 -73.595450  POINT (-73.59545 45.45784)        2\n",
              "5      37  45.546373 -73.626758  POINT (-73.62676 45.54637)        3\n",
              "6      41  45.527630 -73.626383  POINT (-73.62638 45.52763)        5"
            ]
          },
          "metadata": {
            "tags": []
          },
          "execution_count": 33
        }
      ]
    },
    {
      "cell_type": "markdown",
      "metadata": {
        "id": "cGvBLvjktNo4",
        "colab_type": "text"
      },
      "source": [
        "Now we load the interventions dataset, which is our main dataset."
      ]
    },
    {
      "cell_type": "code",
      "metadata": {
        "id": "pRZcZzP0lo8s",
        "colab_type": "code",
        "colab": {
          "base_uri": "https://localhost:8080/",
          "height": 204
        },
        "outputId": "72294f3e-22c9-42a4-d7e6-cdfd9104f9ec"
      },
      "source": [
        "interventions = pd.read_csv(  \n",
        "  \"interventions/interventions.csv\", \n",
        "  usecols=[\"CREATION_DATE_TIME\",\"CASERNE\",\"DIVISION\",\"NOMBRE_UNITES\"], \n",
        "  dtype={\n",
        "    \"CASERNE\": \"string\",\n",
        "    \"DIVISION\": \"string\",\n",
        "    \"NOMBRE_UNITES\": pd.Int64Dtype()\n",
        "  },\n",
        "  parse_dates=[\"CREATION_DATE_TIME\"]\n",
        ")\n",
        "interventions[\"NOMBRE_UNITES\"] = interventions[\"NOMBRE_UNITES\"].fillna(0).astype(int)\n",
        "interventions.rename(\n",
        "  columns={\n",
        "    \"CREATION_DATE_TIME\": \"incident_time\",\n",
        "    \"CASERNE\": \"station\", \n",
        "    \"DIVISION\": \"target_division\",\n",
        "    \"NOMBRE_UNITES\": \"units_deployed\"\n",
        "  }, \n",
        "  inplace=True\n",
        ")\n",
        "\n",
        "interventions.head()"
      ],
      "execution_count": null,
      "outputs": [
        {
          "output_type": "execute_result",
          "data": {
            "text/html": [
              "<div>\n",
              "<style scoped>\n",
              "    .dataframe tbody tr th:only-of-type {\n",
              "        vertical-align: middle;\n",
              "    }\n",
              "\n",
              "    .dataframe tbody tr th {\n",
              "        vertical-align: top;\n",
              "    }\n",
              "\n",
              "    .dataframe thead th {\n",
              "        text-align: right;\n",
              "    }\n",
              "</style>\n",
              "<table border=\"1\" class=\"dataframe\">\n",
              "  <thead>\n",
              "    <tr style=\"text-align: right;\">\n",
              "      <th></th>\n",
              "      <th>incident_time</th>\n",
              "      <th>station</th>\n",
              "      <th>target_division</th>\n",
              "      <th>units_deployed</th>\n",
              "    </tr>\n",
              "  </thead>\n",
              "  <tbody>\n",
              "    <tr>\n",
              "      <th>0</th>\n",
              "      <td>2015-08-10 17:53:07</td>\n",
              "      <td>29</td>\n",
              "      <td>7</td>\n",
              "      <td>1</td>\n",
              "    </tr>\n",
              "    <tr>\n",
              "      <th>1</th>\n",
              "      <td>2015-08-12 03:26:56</td>\n",
              "      <td>38</td>\n",
              "      <td>9</td>\n",
              "      <td>1</td>\n",
              "    </tr>\n",
              "    <tr>\n",
              "      <th>2</th>\n",
              "      <td>2015-08-12 23:38:30</td>\n",
              "      <td>40</td>\n",
              "      <td>7</td>\n",
              "      <td>1</td>\n",
              "    </tr>\n",
              "    <tr>\n",
              "      <th>3</th>\n",
              "      <td>2015-08-13 20:45:33</td>\n",
              "      <td>30</td>\n",
              "      <td>7</td>\n",
              "      <td>1</td>\n",
              "    </tr>\n",
              "    <tr>\n",
              "      <th>4</th>\n",
              "      <td>2015-08-01 04:53:57</td>\n",
              "      <td>72</td>\n",
              "      <td>3</td>\n",
              "      <td>1</td>\n",
              "    </tr>\n",
              "  </tbody>\n",
              "</table>\n",
              "</div>"
            ],
            "text/plain": [
              "        incident_time station target_division  units_deployed\n",
              "0 2015-08-10 17:53:07      29               7               1\n",
              "1 2015-08-12 03:26:56      38               9               1\n",
              "2 2015-08-12 23:38:30      40               7               1\n",
              "3 2015-08-13 20:45:33      30               7               1\n",
              "4 2015-08-01 04:53:57      72               3               1"
            ]
          },
          "metadata": {
            "tags": []
          },
          "execution_count": 34
        }
      ]
    },
    {
      "cell_type": "markdown",
      "metadata": {
        "id": "5RR-hMxM71eD",
        "colab_type": "text"
      },
      "source": [
        "Now we merge interventions with divisions so for each incident we know\n",
        "exactly which division responded to the call."
      ]
    },
    {
      "cell_type": "code",
      "metadata": {
        "id": "NrQBWJWetZuO",
        "colab_type": "code",
        "colab": {
          "base_uri": "https://localhost:8080/",
          "height": 204
        },
        "outputId": "1986b49b-447b-4b60-c9fb-91d4678587f5"
      },
      "source": [
        "# Merge interventions with divisions\n",
        "interventions = interventions.join(divisions.set_index(\"station\"), on=\"station\", how=\"inner\")\n",
        "interventions.head()"
      ],
      "execution_count": null,
      "outputs": [
        {
          "output_type": "execute_result",
          "data": {
            "text/html": [
              "<div>\n",
              "<style scoped>\n",
              "    .dataframe tbody tr th:only-of-type {\n",
              "        vertical-align: middle;\n",
              "    }\n",
              "\n",
              "    .dataframe tbody tr th {\n",
              "        vertical-align: top;\n",
              "    }\n",
              "\n",
              "    .dataframe thead th {\n",
              "        text-align: right;\n",
              "    }\n",
              "</style>\n",
              "<table border=\"1\" class=\"dataframe\">\n",
              "  <thead>\n",
              "    <tr style=\"text-align: right;\">\n",
              "      <th></th>\n",
              "      <th>incident_time</th>\n",
              "      <th>station</th>\n",
              "      <th>target_division</th>\n",
              "      <th>units_deployed</th>\n",
              "      <th>division</th>\n",
              "    </tr>\n",
              "  </thead>\n",
              "  <tbody>\n",
              "    <tr>\n",
              "      <th>0</th>\n",
              "      <td>2015-08-10 17:53:07</td>\n",
              "      <td>29</td>\n",
              "      <td>7</td>\n",
              "      <td>1</td>\n",
              "      <td>5</td>\n",
              "    </tr>\n",
              "    <tr>\n",
              "      <th>30</th>\n",
              "      <td>2015-09-07 12:23:40</td>\n",
              "      <td>29</td>\n",
              "      <td>7</td>\n",
              "      <td>7</td>\n",
              "      <td>5</td>\n",
              "    </tr>\n",
              "    <tr>\n",
              "      <th>80</th>\n",
              "      <td>2015-08-25 19:03:42</td>\n",
              "      <td>29</td>\n",
              "      <td>7</td>\n",
              "      <td>2</td>\n",
              "      <td>5</td>\n",
              "    </tr>\n",
              "    <tr>\n",
              "      <th>157</th>\n",
              "      <td>2015-01-27 11:00:51</td>\n",
              "      <td>29</td>\n",
              "      <td>7</td>\n",
              "      <td>37</td>\n",
              "      <td>5</td>\n",
              "    </tr>\n",
              "    <tr>\n",
              "      <th>219</th>\n",
              "      <td>2015-02-23 23:48:24</td>\n",
              "      <td>29</td>\n",
              "      <td>7</td>\n",
              "      <td>1</td>\n",
              "      <td>5</td>\n",
              "    </tr>\n",
              "  </tbody>\n",
              "</table>\n",
              "</div>"
            ],
            "text/plain": [
              "          incident_time station target_division  units_deployed division\n",
              "0   2015-08-10 17:53:07      29               7               1        5\n",
              "30  2015-09-07 12:23:40      29               7               7        5\n",
              "80  2015-08-25 19:03:42      29               7               2        5\n",
              "157 2015-01-27 11:00:51      29               7              37        5\n",
              "219 2015-02-23 23:48:24      29               7               1        5"
            ]
          },
          "metadata": {
            "tags": []
          },
          "execution_count": 35
        }
      ]
    },
    {
      "cell_type": "code",
      "metadata": {
        "id": "NrA58v1N7-9L",
        "colab_type": "code",
        "colab": {
          "base_uri": "https://localhost:8080/",
          "height": 204
        },
        "outputId": "b80ee772-2d6c-4069-aea8-b3fccad38ea3"
      },
      "source": [
        "# Read crimes dataset into a Pandas dataframe\n",
        "crimes = pd.read_csv(\"crimes/crimes.csv\", encoding=\"ISO-8859-1\")\n",
        "crimes.rename(columns={\"DATE\":\"date\", \"LATITUDE\":\"latitude\", \"LONGITUDE\":\"longitude\"}, inplace=True)\n",
        "crimes = crimes[[\"date\",\"latitude\",\"longitude\"]]\n",
        "crimes.head()"
      ],
      "execution_count": 60,
      "outputs": [
        {
          "output_type": "execute_result",
          "data": {
            "text/html": [
              "<div>\n",
              "<style scoped>\n",
              "    .dataframe tbody tr th:only-of-type {\n",
              "        vertical-align: middle;\n",
              "    }\n",
              "\n",
              "    .dataframe tbody tr th {\n",
              "        vertical-align: top;\n",
              "    }\n",
              "\n",
              "    .dataframe thead th {\n",
              "        text-align: right;\n",
              "    }\n",
              "</style>\n",
              "<table border=\"1\" class=\"dataframe\">\n",
              "  <thead>\n",
              "    <tr style=\"text-align: right;\">\n",
              "      <th></th>\n",
              "      <th>date</th>\n",
              "      <th>latitude</th>\n",
              "      <th>longitude</th>\n",
              "    </tr>\n",
              "  </thead>\n",
              "  <tbody>\n",
              "    <tr>\n",
              "      <th>0</th>\n",
              "      <td>2018-09-13</td>\n",
              "      <td>45.567780</td>\n",
              "      <td>-73.626778</td>\n",
              "    </tr>\n",
              "    <tr>\n",
              "      <th>1</th>\n",
              "      <td>2018-04-30</td>\n",
              "      <td>45.567780</td>\n",
              "      <td>-73.626778</td>\n",
              "    </tr>\n",
              "    <tr>\n",
              "      <th>2</th>\n",
              "      <td>2018-09-01</td>\n",
              "      <td>45.519122</td>\n",
              "      <td>-73.685928</td>\n",
              "    </tr>\n",
              "    <tr>\n",
              "      <th>3</th>\n",
              "      <td>2017-07-21</td>\n",
              "      <td>1.000000</td>\n",
              "      <td>1.000000</td>\n",
              "    </tr>\n",
              "    <tr>\n",
              "      <th>4</th>\n",
              "      <td>2017-07-29</td>\n",
              "      <td>1.000000</td>\n",
              "      <td>1.000000</td>\n",
              "    </tr>\n",
              "  </tbody>\n",
              "</table>\n",
              "</div>"
            ],
            "text/plain": [
              "         date   latitude  longitude\n",
              "0  2018-09-13  45.567780 -73.626778\n",
              "1  2018-04-30  45.567780 -73.626778\n",
              "2  2018-09-01  45.519122 -73.685928\n",
              "3  2017-07-21   1.000000   1.000000\n",
              "4  2017-07-29   1.000000   1.000000"
            ]
          },
          "metadata": {
            "tags": []
          },
          "execution_count": 60
        }
      ]
    },
    {
      "cell_type": "code",
      "metadata": {
        "id": "FH-TXa_--gUK",
        "colab_type": "code",
        "colab": {
          "base_uri": "https://localhost:8080/",
          "height": 204
        },
        "outputId": "065f28ad-e4e2-44b9-cdf0-3ce15e3f22c5"
      },
      "source": [
        "# Cleanup by removing bad latitude and longitudes\n",
        "crimes_good_latitudes = crimes[\"latitude\"].between(45.3583897,45.7735297)\n",
        "crimes_good_longitudes = crimes[\"longitude\"].between(-74.1045037,-73.365220)\n",
        "\n",
        "crimes = crimes[crimes_good_latitudes & crimes_good_longitudes]\n",
        "crimes = gpd.GeoDataFrame(crimes, geometry=gpd.points_from_xy(crimes.longitude, crimes.latitude))\n",
        "crimes.head()"
      ],
      "execution_count": 61,
      "outputs": [
        {
          "output_type": "execute_result",
          "data": {
            "text/html": [
              "<div>\n",
              "<style scoped>\n",
              "    .dataframe tbody tr th:only-of-type {\n",
              "        vertical-align: middle;\n",
              "    }\n",
              "\n",
              "    .dataframe tbody tr th {\n",
              "        vertical-align: top;\n",
              "    }\n",
              "\n",
              "    .dataframe thead th {\n",
              "        text-align: right;\n",
              "    }\n",
              "</style>\n",
              "<table border=\"1\" class=\"dataframe\">\n",
              "  <thead>\n",
              "    <tr style=\"text-align: right;\">\n",
              "      <th></th>\n",
              "      <th>date</th>\n",
              "      <th>latitude</th>\n",
              "      <th>longitude</th>\n",
              "      <th>geometry</th>\n",
              "    </tr>\n",
              "  </thead>\n",
              "  <tbody>\n",
              "    <tr>\n",
              "      <th>0</th>\n",
              "      <td>2018-09-13</td>\n",
              "      <td>45.567780</td>\n",
              "      <td>-73.626778</td>\n",
              "      <td>POINT (-73.62678 45.56778)</td>\n",
              "    </tr>\n",
              "    <tr>\n",
              "      <th>1</th>\n",
              "      <td>2018-04-30</td>\n",
              "      <td>45.567780</td>\n",
              "      <td>-73.626778</td>\n",
              "      <td>POINT (-73.62678 45.56778)</td>\n",
              "    </tr>\n",
              "    <tr>\n",
              "      <th>2</th>\n",
              "      <td>2018-09-01</td>\n",
              "      <td>45.519122</td>\n",
              "      <td>-73.685928</td>\n",
              "      <td>POINT (-73.68593 45.51912)</td>\n",
              "    </tr>\n",
              "    <tr>\n",
              "      <th>6</th>\n",
              "      <td>2017-07-30</td>\n",
              "      <td>45.516776</td>\n",
              "      <td>-73.591457</td>\n",
              "      <td>POINT (-73.59146 45.51678)</td>\n",
              "    </tr>\n",
              "    <tr>\n",
              "      <th>8</th>\n",
              "      <td>2017-08-01</td>\n",
              "      <td>45.602873</td>\n",
              "      <td>-73.635117</td>\n",
              "      <td>POINT (-73.63512 45.60287)</td>\n",
              "    </tr>\n",
              "  </tbody>\n",
              "</table>\n",
              "</div>"
            ],
            "text/plain": [
              "         date   latitude  longitude                    geometry\n",
              "0  2018-09-13  45.567780 -73.626778  POINT (-73.62678 45.56778)\n",
              "1  2018-04-30  45.567780 -73.626778  POINT (-73.62678 45.56778)\n",
              "2  2018-09-01  45.519122 -73.685928  POINT (-73.68593 45.51912)\n",
              "6  2017-07-30  45.516776 -73.591457  POINT (-73.59146 45.51678)\n",
              "8  2017-08-01  45.602873 -73.635117  POINT (-73.63512 45.60287)"
            ]
          },
          "metadata": {
            "tags": []
          },
          "execution_count": 61
        }
      ]
    },
    {
      "cell_type": "markdown",
      "metadata": {
        "id": "HKSXfL192YHT",
        "colab_type": "text"
      },
      "source": [
        "# Aggregation\n",
        "At this step we aggregate the data to prepare it in its final shape\n",
        "ebfore a final round of merging and prepreocessing."
      ]
    },
    {
      "cell_type": "code",
      "metadata": {
        "id": "ImpyB0nI1dMn",
        "colab_type": "code",
        "colab": {
          "base_uri": "https://localhost:8080/",
          "height": 204
        },
        "outputId": "ef1086cc-13f1-4b76-f1c7-bfc68fc2b3f5"
      },
      "source": [
        "# Exctract the date as a new column\n",
        "interventions[\"incident_date\"] = interventions[\"incident_time\"].dt.date\n",
        "interventions[\"incidents\"] = 1\n",
        "interventions.head()"
      ],
      "execution_count": null,
      "outputs": [
        {
          "output_type": "execute_result",
          "data": {
            "text/html": [
              "<div>\n",
              "<style scoped>\n",
              "    .dataframe tbody tr th:only-of-type {\n",
              "        vertical-align: middle;\n",
              "    }\n",
              "\n",
              "    .dataframe tbody tr th {\n",
              "        vertical-align: top;\n",
              "    }\n",
              "\n",
              "    .dataframe thead th {\n",
              "        text-align: right;\n",
              "    }\n",
              "</style>\n",
              "<table border=\"1\" class=\"dataframe\">\n",
              "  <thead>\n",
              "    <tr style=\"text-align: right;\">\n",
              "      <th></th>\n",
              "      <th>incident_time</th>\n",
              "      <th>station</th>\n",
              "      <th>target_division</th>\n",
              "      <th>units_deployed</th>\n",
              "      <th>division</th>\n",
              "      <th>incident_date</th>\n",
              "      <th>incidents</th>\n",
              "    </tr>\n",
              "  </thead>\n",
              "  <tbody>\n",
              "    <tr>\n",
              "      <th>0</th>\n",
              "      <td>2015-08-10 17:53:07</td>\n",
              "      <td>29</td>\n",
              "      <td>7</td>\n",
              "      <td>1</td>\n",
              "      <td>5</td>\n",
              "      <td>2015-08-10</td>\n",
              "      <td>1</td>\n",
              "    </tr>\n",
              "    <tr>\n",
              "      <th>30</th>\n",
              "      <td>2015-09-07 12:23:40</td>\n",
              "      <td>29</td>\n",
              "      <td>7</td>\n",
              "      <td>7</td>\n",
              "      <td>5</td>\n",
              "      <td>2015-09-07</td>\n",
              "      <td>1</td>\n",
              "    </tr>\n",
              "    <tr>\n",
              "      <th>80</th>\n",
              "      <td>2015-08-25 19:03:42</td>\n",
              "      <td>29</td>\n",
              "      <td>7</td>\n",
              "      <td>2</td>\n",
              "      <td>5</td>\n",
              "      <td>2015-08-25</td>\n",
              "      <td>1</td>\n",
              "    </tr>\n",
              "    <tr>\n",
              "      <th>157</th>\n",
              "      <td>2015-01-27 11:00:51</td>\n",
              "      <td>29</td>\n",
              "      <td>7</td>\n",
              "      <td>37</td>\n",
              "      <td>5</td>\n",
              "      <td>2015-01-27</td>\n",
              "      <td>1</td>\n",
              "    </tr>\n",
              "    <tr>\n",
              "      <th>219</th>\n",
              "      <td>2015-02-23 23:48:24</td>\n",
              "      <td>29</td>\n",
              "      <td>7</td>\n",
              "      <td>1</td>\n",
              "      <td>5</td>\n",
              "      <td>2015-02-23</td>\n",
              "      <td>1</td>\n",
              "    </tr>\n",
              "  </tbody>\n",
              "</table>\n",
              "</div>"
            ],
            "text/plain": [
              "          incident_time station  ... incident_date  incidents\n",
              "0   2015-08-10 17:53:07      29  ...    2015-08-10          1\n",
              "30  2015-09-07 12:23:40      29  ...    2015-09-07          1\n",
              "80  2015-08-25 19:03:42      29  ...    2015-08-25          1\n",
              "157 2015-01-27 11:00:51      29  ...    2015-01-27          1\n",
              "219 2015-02-23 23:48:24      29  ...    2015-02-23          1\n",
              "\n",
              "[5 rows x 7 columns]"
            ]
          },
          "metadata": {
            "tags": []
          },
          "execution_count": 42
        }
      ]
    },
    {
      "cell_type": "code",
      "metadata": {
        "id": "Ol0-8DnP3Mwq",
        "colab_type": "code",
        "colab": {
          "base_uri": "https://localhost:8080/",
          "height": 235
        },
        "outputId": "6d1a909d-00a9-45df-a1ec-080691e9af7b"
      },
      "source": [
        "# Aggregate number of incidents and units deployed per date/division\n",
        "# SELECT incident_date, division, SUM(units_deployed), COUNT(incidents) FROM interventions GROUP BY incident_date, division\n",
        "\n",
        "incidents_date_division = interventions[[\"incident_date\",\"division\",\"incidents\",\"units_deployed\"]].groupby([\"incident_date\", \"division\"]).sum()\n",
        "incidents_date_division.head()"
      ],
      "execution_count": null,
      "outputs": [
        {
          "output_type": "execute_result",
          "data": {
            "text/html": [
              "<div>\n",
              "<style scoped>\n",
              "    .dataframe tbody tr th:only-of-type {\n",
              "        vertical-align: middle;\n",
              "    }\n",
              "\n",
              "    .dataframe tbody tr th {\n",
              "        vertical-align: top;\n",
              "    }\n",
              "\n",
              "    .dataframe thead th {\n",
              "        text-align: right;\n",
              "    }\n",
              "</style>\n",
              "<table border=\"1\" class=\"dataframe\">\n",
              "  <thead>\n",
              "    <tr style=\"text-align: right;\">\n",
              "      <th></th>\n",
              "      <th></th>\n",
              "      <th>incidents</th>\n",
              "      <th>units_deployed</th>\n",
              "    </tr>\n",
              "    <tr>\n",
              "      <th>incident_date</th>\n",
              "      <th>division</th>\n",
              "      <th></th>\n",
              "      <th></th>\n",
              "    </tr>\n",
              "  </thead>\n",
              "  <tbody>\n",
              "    <tr>\n",
              "      <th rowspan=\"5\" valign=\"top\">2015-01-01</th>\n",
              "      <th>1</th>\n",
              "      <td>34</td>\n",
              "      <td>59</td>\n",
              "    </tr>\n",
              "    <tr>\n",
              "      <th>2</th>\n",
              "      <td>81</td>\n",
              "      <td>140</td>\n",
              "    </tr>\n",
              "    <tr>\n",
              "      <th>3</th>\n",
              "      <td>70</td>\n",
              "      <td>118</td>\n",
              "    </tr>\n",
              "    <tr>\n",
              "      <th>4</th>\n",
              "      <td>70</td>\n",
              "      <td>92</td>\n",
              "    </tr>\n",
              "    <tr>\n",
              "      <th>5</th>\n",
              "      <td>84</td>\n",
              "      <td>137</td>\n",
              "    </tr>\n",
              "  </tbody>\n",
              "</table>\n",
              "</div>"
            ],
            "text/plain": [
              "                        incidents  units_deployed\n",
              "incident_date division                           \n",
              "2015-01-01    1                34              59\n",
              "              2                81             140\n",
              "              3                70             118\n",
              "              4                70              92\n",
              "              5                84             137"
            ]
          },
          "metadata": {
            "tags": []
          },
          "execution_count": 49
        }
      ]
    },
    {
      "cell_type": "code",
      "metadata": {
        "id": "w77c-9rf3uWc",
        "colab_type": "code",
        "colab": {
          "base_uri": "https://localhost:8080/",
          "height": 235
        },
        "outputId": "d6aeaac5-c42b-44a5-8147-6722bee1166b"
      },
      "source": [
        "# Aggregate number of incidents and units deployed per date/target_division\n",
        "\n",
        "incidents_date_target_division = interventions[[\"incident_date\",\"target_division\",\"incidents\",\"units_deployed\"]].groupby([\"incident_date\", \"target_division\"]).sum()\n",
        "incidents_date_target_division.head()"
      ],
      "execution_count": null,
      "outputs": [
        {
          "output_type": "execute_result",
          "data": {
            "text/html": [
              "<div>\n",
              "<style scoped>\n",
              "    .dataframe tbody tr th:only-of-type {\n",
              "        vertical-align: middle;\n",
              "    }\n",
              "\n",
              "    .dataframe tbody tr th {\n",
              "        vertical-align: top;\n",
              "    }\n",
              "\n",
              "    .dataframe thead th {\n",
              "        text-align: right;\n",
              "    }\n",
              "</style>\n",
              "<table border=\"1\" class=\"dataframe\">\n",
              "  <thead>\n",
              "    <tr style=\"text-align: right;\">\n",
              "      <th></th>\n",
              "      <th></th>\n",
              "      <th>incidents</th>\n",
              "      <th>units_deployed</th>\n",
              "    </tr>\n",
              "    <tr>\n",
              "      <th>incident_date</th>\n",
              "      <th>target_division</th>\n",
              "      <th></th>\n",
              "      <th></th>\n",
              "    </tr>\n",
              "  </thead>\n",
              "  <tbody>\n",
              "    <tr>\n",
              "      <th rowspan=\"5\" valign=\"top\">2015-01-01</th>\n",
              "      <th>0</th>\n",
              "      <td>1</td>\n",
              "      <td>4</td>\n",
              "    </tr>\n",
              "    <tr>\n",
              "      <th>1</th>\n",
              "      <td>22</td>\n",
              "      <td>39</td>\n",
              "    </tr>\n",
              "    <tr>\n",
              "      <th>10</th>\n",
              "      <td>67</td>\n",
              "      <td>92</td>\n",
              "    </tr>\n",
              "    <tr>\n",
              "      <th>11</th>\n",
              "      <td>47</td>\n",
              "      <td>72</td>\n",
              "    </tr>\n",
              "    <tr>\n",
              "      <th>12</th>\n",
              "      <td>36</td>\n",
              "      <td>65</td>\n",
              "    </tr>\n",
              "  </tbody>\n",
              "</table>\n",
              "</div>"
            ],
            "text/plain": [
              "                               incidents  units_deployed\n",
              "incident_date target_division                           \n",
              "2015-01-01    0                        1               4\n",
              "              1                       22              39\n",
              "              10                      67              92\n",
              "              11                      47              72\n",
              "              12                      36              65"
            ]
          },
          "metadata": {
            "tags": []
          },
          "execution_count": 50
        }
      ]
    },
    {
      "cell_type": "code",
      "metadata": {
        "id": "PGSwnXt66QAx",
        "colab_type": "code",
        "colab": {}
      },
      "source": [
        ""
      ],
      "execution_count": null,
      "outputs": []
    }
  ]
}