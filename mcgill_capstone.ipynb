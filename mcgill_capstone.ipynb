{
  "nbformat": 4,
  "nbformat_minor": 0,
  "metadata": {
    "colab": {
      "name": "mcgill-capstone",
      "provenance": [],
      "collapsed_sections": [],
      "authorship_tag": "ABX9TyPuqsgsGgc2qXZrFGQ+T0aY",
      "include_colab_link": true
    },
    "kernelspec": {
      "name": "python3",
      "display_name": "Python 3"
    }
  },
  "cells": [
    {
      "cell_type": "markdown",
      "metadata": {
        "id": "view-in-github",
        "colab_type": "text"
      },
      "source": [
        "<a href=\"https://colab.research.google.com/github/naderghanbari/mcgill-capstone/blob/master/mcgill_capstone.ipynb\" target=\"_parent\"><img src=\"https://colab.research.google.com/assets/colab-badge.svg\" alt=\"Open In Colab\"/></a>"
      ]
    },
    {
      "cell_type": "code",
      "metadata": {
        "id": "CzjPTOs8_OSW",
        "colab_type": "code",
        "colab": {}
      },
      "source": [
        ""
      ],
      "execution_count": null,
      "outputs": []
    },
    {
      "cell_type": "code",
      "metadata": {
        "id": "G1SBiyHx4LCa",
        "colab_type": "code",
        "colab": {}
      },
      "source": [
        "# Collect Montreal hourly weather data from 2015 to 2019\n",
        "%%bash\n",
        "FROM=2015\n",
        "TO=2019\n",
        "STATION=30165\n",
        "rm -rf weather\n",
        "mkdir weather\n",
        "for year in $(seq $FROM $TO); do\n",
        "  for month in {01..12}; do\n",
        "    curl https://climate.weather.gc.ca/climate_data/bulk_data_e.html\\?format\\=csv\\&stationID\\=$STATION\\&Year\\=$year\\&Month\\=$month\\&Day\\=1\\&timeframe\\=1\\&submit\\=Download+Data --silent --output weather/$year-$month.csv &\n",
        "  done;\n",
        "done"
      ],
      "execution_count": null,
      "outputs": []
    },
    {
      "cell_type": "code",
      "metadata": {
        "id": "_uGJ1ZXB_AzQ",
        "colab_type": "code",
        "colab": {}
      },
      "source": [
        "# Count check\n",
        "import os                                                                                                \n",
        "assert(len(os.listdir(\"weather\")) == 60)"
      ],
      "execution_count": null,
      "outputs": []
    },
    {
      "cell_type": "code",
      "metadata": {
        "id": "GUKxrDxqDxPS",
        "colab_type": "code",
        "colab": {}
      },
      "source": [
        ""
      ],
      "execution_count": null,
      "outputs": []
    }
  ]
}