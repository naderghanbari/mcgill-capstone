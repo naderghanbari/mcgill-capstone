{
  "nbformat": 4,
  "nbformat_minor": 0,
  "metadata": {
    "colab": {
      "name": "mcgill-capstone",
      "provenance": [],
      "collapsed_sections": [],
      "include_colab_link": true
    },
    "kernelspec": {
      "name": "python3",
      "display_name": "Python 3"
    }
  },
  "cells": [
    {
      "cell_type": "markdown",
      "metadata": {
        "id": "view-in-github",
        "colab_type": "text"
      },
      "source": [
        "<a href=\"https://colab.research.google.com/github/naderghanbari/mcgill-capstone/blob/master/mcgill_capstone.ipynb\" target=\"_parent\"><img src=\"https://colab.research.google.com/assets/colab-badge.svg\" alt=\"Open In Colab\"/></a>"
      ]
    },
    {
      "cell_type": "code",
      "metadata": {
        "id": "CzjPTOs8_OSW",
        "colab_type": "code",
        "colab": {}
      },
      "source": [
        ""
      ],
      "execution_count": null,
      "outputs": []
    },
    {
      "cell_type": "code",
      "metadata": {
        "id": "5fNT547qFvb7",
        "colab_type": "code",
        "colab": {
          "base_uri": "https://localhost:8080/",
          "height": 34
        },
        "outputId": "67b51faf-6d80-4ec4-c1b4-0b727b5d650e"
      },
      "source": [
        "# Collect Montreal firefighter interventions from 2015 to date\n",
        "%%bash\n",
        "mkdir -p interventions\n",
        "curl http://donnees.ville.montreal.qc.ca/dataset/701683f0-a838-4fe0-b4d6-a4964d9ea7f0/resource/9e67d2f3-9104-4af4-aac4-022df621a749/download/donneesouvertes-interventions-sim.csv --silent --output interventions/interventions.csv\n",
        "echo Number of lines: `wc -l interventions/*`"
      ],
      "execution_count": 6,
      "outputs": [
        {
          "output_type": "stream",
          "text": [
            "Number of lines: 640318 interventions/2015-to-2020.csv 640318 interventions/interventions.csv 1280636 total\n"
          ],
          "name": "stdout"
        }
      ]
    },
    {
      "cell_type": "code",
      "metadata": {
        "colab_type": "code",
        "id": "lYAqkg5wKBKn",
        "colab": {
          "base_uri": "https://localhost:8080/",
          "height": 34
        },
        "outputId": "a9ecfe40-5cb3-4883-c369-f13d44f2dc2a"
      },
      "source": [
        "# Collect Montreal crime data from 2015 to date\n",
        "%%bash\n",
        "mkdir -p crimes\n",
        "curl http://donnees.ville.montreal.qc.ca/dataset/5829b5b0-ea6f-476f-be94-bc2b8797769a/resource/c6f482bf-bf0f-4960-8b2f-9982c211addd/download/interventionscitoyendo.csv --silent --output crimes/crimes.csv\n",
        "echo Number of lines: `wc -l crimes/*`"
      ],
      "execution_count": 4,
      "outputs": [
        {
          "output_type": "stream",
          "text": [
            "Number of lines: 171031 crimes/crimes.csv\n"
          ],
          "name": "stdout"
        }
      ]
    },
    {
      "cell_type": "code",
      "metadata": {
        "id": "G1SBiyHx4LCa",
        "colab_type": "code",
        "colab": {}
      },
      "source": [
        "# Collect Montreal hourly weather data from 2015 to 2019\n",
        "%%bash\n",
        "FROM=2015\n",
        "TO=2019\n",
        "STATION=30165\n",
        "mkdir -p weather\n",
        "for year in $(seq $FROM $TO); do\n",
        "  for month in {01..12}; do\n",
        "    curl https://climate.weather.gc.ca/climate_data/bulk_data_e.html\\?format\\=csv\\&stationID\\=$STATION\\&Year\\=$year\\&Month\\=$month\\&Day\\=1\\&timeframe\\=1\\&submit\\=Download+Data --silent --output weather/$year-$month.csv &\n",
        "  done;\n",
        "done"
      ],
      "execution_count": 7,
      "outputs": []
    },
    {
      "cell_type": "code",
      "metadata": {
        "id": "_uGJ1ZXB_AzQ",
        "colab_type": "code",
        "colab": {}
      },
      "source": [
        "# Count check\n",
        "import os                                                                                                \n",
        "assert(len(os.listdir(\"weather\")) == 60)"
      ],
      "execution_count": 3,
      "outputs": []
    },
    {
      "cell_type": "code",
      "metadata": {
        "id": "GUKxrDxqDxPS",
        "colab_type": "code",
        "colab": {}
      },
      "source": [
        ""
      ],
      "execution_count": 3,
      "outputs": []
    }
  ]
}